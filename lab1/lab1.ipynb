{
 "cells": [
  {
   "cell_type": "code",
   "execution_count": null,
   "metadata": {},
   "outputs": [
    {
     "name": "stdout",
     "output_type": "stream",
     "text": [
      "Введите угол поворота изображения в градусах\n",
      "45\n",
      "Введите коэффициент изменения длины\n",
      "0.8\n",
      "Введите признак используемой интерполяционной схемы ( 0 – нулевого порядка, 1 – первого порядка, 2- третьего порядка).\n",
      "2\n"
     ]
    }
   ],
   "source": [
    "import cv2\n",
    "import numpy as np\n",
    "from matplotlib import pyplot as plt\n",
    "\n",
    "# image load\n",
    "image = cv2.imread(\"1.jpg\")\n",
    "\n",
    "# width and height of image to rotate\n",
    "# center of image\n",
    "(h, w) = image.shape[:2]\n",
    "center = (w / 2, h / 2)\n",
    "\n",
    "print(\"Введите угол поворота изображения в градусах\")\n",
    "angle = int(input())%360\n",
    "# rotate to given angle\n",
    "scale = 1.0\n",
    "M = cv2.getRotationMatrix2D(center, angle, 1.0)\n",
    "#finding new dimenesions of image\n",
    "cos = np.abs(M[0, 0])\n",
    "sin = np.abs(M[0, 1])\n",
    "tg = sin / cos\n",
    "\n",
    "new_w = int((h * sin) + (w * cos))\n",
    "new_h = int((h * cos) + (w * sin))\n",
    "\n",
    "M[0, 2] += (new_w / 2) - center[0]\n",
    "M[1, 2] += (new_h / 2) - center[1]\n",
    "\n",
    "rotated = cv2.warpAffine(image, M, (new_w, new_h))\n",
    "#cv2.imshow(\"Rotated image\", rotated)\n",
    "#cv2.waitKey(0)\n",
    "\n",
    "#обрежем до прямоугольника\n",
    "h_sin = int(h * sin)\n",
    "h, w, _ = rotated.shape\n",
    "row_1 = int((w - 2 * h_sin) * tg)\n",
    "row_2 = h - int((w - 2 * h_sin) * tg)\n",
    "col_1 = h_sin\n",
    "col_2 = w - h_sin\n",
    "rectangle_image = rotated[min(row_1, row_2): max(row_1, row_2), min(col_1, col_2): max(col_1, col_2)]\n",
    "\n",
    "#cv2.imshow(\"Rectangle_image\", rectangle_image)\n",
    "#cv2.waitKey(0)\n",
    "\n",
    "print(\"Введите коэффициент изменения длины\")\n",
    "k = float(input())\n",
    "print(\"Введите признак используемой интерполяционной схемы ( 0 – нулевого порядка, 1 – первого порядка, 2- третьего порядка).\")\n",
    "i = int(input())\n",
    "if k > 0 and k <=1:\n",
    "    s = 1/k\n",
    "    dim = (int(w*k), int(h*s))\n",
    "\n",
    "    if i == 0:\n",
    "        result = cv2.resize(rectangle_image, dim, interpolation = cv2.INTER_NEAREST)\n",
    "    elif i == 1:\n",
    "        result = cv2.resize(rectangle_image, dim, interpolation = cv2.INTER_LINEAR)\n",
    "    elif i == 2:\n",
    "        result = cv2.resize(rectangle_image, dim, interpolation = cv2.INTER_AREA)\n",
    "    else:\n",
    "        print(\"Неправильно введен признак используемой интерполяционной схемы\")\n",
    "    cv2.imshow(\"Result image\", result)\n",
    "    cv2.waitKey(0)\n",
    "\n",
    "# save to folder\n",
    "    cv2.imwrite(\"result.jpg\", result)\n",
    "else:\n",
    "    print(\"Коэффициент должен быть больше 0 и меньше или равен 1.\")\n",
    "\n",
    "# show the result    \n",
    "plt.imshow(result)\n",
    "plt.title(\"result image\")\n",
    "plt.show()\n",
    "\n",
    "cv2.destroyAllWindows()"
   ]
  },
  {
   "cell_type": "code",
   "execution_count": null,
   "metadata": {},
   "outputs": [],
   "source": []
  }
 ],
 "metadata": {
  "kernelspec": {
   "display_name": "Python 3",
   "language": "python",
   "name": "python3"
  },
  "language_info": {
   "codemirror_mode": {
    "name": "ipython",
    "version": 3
   },
   "file_extension": ".py",
   "mimetype": "text/x-python",
   "name": "python",
   "nbconvert_exporter": "python",
   "pygments_lexer": "ipython3",
   "version": "3.7.6"
  }
 },
 "nbformat": 4,
 "nbformat_minor": 4
}
